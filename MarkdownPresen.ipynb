{
 "cells": [
  {
   "cell_type": "markdown",
   "metadata": {},
   "source": [
    "# 三角関数(sin)のグラフ\n",
    "三角関数の一つ、sin関数(サイン関数)をグラフにしてみます。\n",
    "\n",
    "## sin関数とは\n",
    "\n",
    "**sin関数**とは三角関数の一種で、下図のような直角三角形において、辺ABと辺ACの比を表す関数です。\n",
    "\n",
    "![sin関数](sin_pic_sample.JPG)\n",
    "\n",
    "三角関数については、以下のリンクをご参照下さい。  \n",
    "[三角関数(Wikipedia)](https://ja.wikipedia.org/wiki/%E4%B8%89%E8%A7%92%E9%96%A2%E6%95%B0)\n",
    "\n",
    "三角関数は数式で以下のように書き表します。ここで、$\\theta$は辺ABと辺CBとのなす角です。\n",
    "\n",
    "$$\n",
    "y = \\sin \\theta\\\\\n",
    "where \\quad 0 <= \\theta<=2\\pi\n",
    "$$\n",
    "\n",
    "sin関数における、代表的な$\\theta$の値とsin関数の値を挙げます。\n",
    "\n",
    "1. $\\theta$が0のとき\n",
    "    - sinの値は0\n",
    "1. $\\theta$が90°のとき\n",
    "    - sinの値は1\n",
    "1. $\\theta$が180°のとき\n",
    "    - sinの値は0\n",
    "1. $\\theta$が270°のとき\n",
    "    - sinの値は-1\n",
    "1. $\\theta$が360°のとき\n",
    "    - sinの値は0\n",
    "\n",
    "これを表にすると以下のようになります。\n",
    "\n",
    "|$\\theta$の値|sin関数の値|\n",
    "|:--:|:--:|\n",
    "|0|0|\n",
    "|90|1|\n",
    "|180|0|\n",
    "|270|-1|\n",
    "|360|0|\n",
    "\n",
    "では、sin関数をグラフにしてみましょう。\n",
    "\n",
    "## sin関数のグラフを書くためのソース\n",
    "\n",
    "Pythonを使用してsin関数のグラフを描いてみました。"
   ]
  },
  {
   "cell_type": "code",
   "execution_count": 7,
   "metadata": {},
   "outputs": [
    {
     "data": {
      "image/png": "[encoded data removed]",
      "text/plain": [
       "<Figure size 432x288 with 1 Axes>"
      ]
     },
     "metadata": {
      "needs_background": "light"
     },
     "output_type": "display_data"
    }
   ],
   "source": [
    "%matplotlib inline\n",
    "import matplotlib.pyplot as plt\n",
    "import numpy as np\n",
    "\n",
    "x = np.linspace(0, 2 * np.pi)\n",
    "y = np.sin(x)\n",
    "\n",
    "plt.grid(True)\n",
    "\n",
    "plt.plot(x, y)\n",
    "plt.show()"
   ]
  },
  {
   "cell_type": "markdown",
   "metadata": {},
   "source": [
    "***\n",
    "\n",
    "こちらのサイトを参考にしました。\n",
    "\n",
    "> [【Python】numpy & matplotlib & math を使いこなす – 入門①sin波を描画してみよう](https://blog.proglearn.com/2020/01/23/%E3%80%90python%E3%80%91numpy-matplotlib-math-%E3%82%92%E4%BD%BF%E3%81%84%E3%81%93%E3%81%AA%E3%81%99-%E5%85%A5%E9%96%80%E2%91%A0sin%E6%B3%A2%E3%82%92%E6%8F%8F%E7%94%BB%E3%81%97%E3%81%A6%E3%81%BF/)"
   ]
  },
  {
   "cell_type": "code",
   "execution_count": null,
   "metadata": {},
   "outputs": [],
   "source": []
  }
 ],
 "metadata": {
  "kernelspec": {
   "display_name": "Python 3",
   "language": "python",
   "name": "python3"
  },
  "language_info": {
   "codemirror_mode": {
    "name": "ipython",
    "version": 3
   },
   "file_extension": ".py",
   "mimetype": "text/x-python",
   "name": "python",
   "nbconvert_exporter": "python",
   "pygments_lexer": "ipython3",
   "version": "3.8.4"
  }
 },
 "nbformat": 4,
 "nbformat_minor": 4
}
